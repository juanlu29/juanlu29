{
  "nbformat": 4,
  "nbformat_minor": 0,
  "metadata": {
    "colab": {
      "name": "Untitled2.ipynb",
      "provenance": [],
      "authorship_tag": "ABX9TyNjMAWysIqcQh0oMngEY4EP",
      "include_colab_link": true
    },
    "kernelspec": {
      "name": "python3",
      "display_name": "Python 3"
    }
  },
  "cells": [
    {
      "cell_type": "markdown",
      "metadata": {
        "id": "view-in-github",
        "colab_type": "text"
      },
      "source": [
        "<a href=\"https://colab.research.google.com/github/juanlu29/juanlu29/blob/chatbot/Untitled2.ipynb\" target=\"_parent\"><img src=\"https://colab.research.google.com/assets/colab-badge.svg\" alt=\"Open In Colab\"/></a>"
      ]
    },
    {
      "cell_type": "markdown",
      "metadata": {
        "id": "cR2QBGjBlruz",
        "colab_type": "text"
      },
      "source": [
        "Modulos python usados"
      ]
    },
    {
      "cell_type": "code",
      "metadata": {
        "id": "EnIaTdRAj7kM",
        "colab_type": "code",
        "colab": {}
      },
      "source": [
        "import pandas as pd\n",
        "import numpy as np\n",
        "from google.colab import drive"
      ],
      "execution_count": 3,
      "outputs": []
    },
    {
      "cell_type": "markdown",
      "metadata": {
        "id": "TOpSuO1dljK7",
        "colab_type": "text"
      },
      "source": [
        "Parseador de documentos. Dado un archivo .txt lo procesa en unidades de un numero de dado de caracteres y lo almacena es un archivo .csv"
      ]
    },
    {
      "cell_type": "code",
      "metadata": {
        "id": "qDSgnVEUlyH2",
        "colab_type": "code",
        "colab": {
          "base_uri": "https://localhost:8080/",
          "height": 72
        },
        "outputId": "7a829c80-85fe-4cd1-ac3d-8764fe8bd8bc"
      },
      "source": [
        "drive.mount('/content/gdrive')\n",
        "path = './gdrive/My Drive/Colab Notebooks/biblia.txt'\n",
        "with open(path, 'r', encoding='latin1') as contenido:\n",
        "  biblia = contenido.readlines()\n",
        "contenido.close()\n",
        "\n",
        "particionado = {}\n",
        "\n",
        "try:\n",
        "  particionado[\"d\"+str(i)] = biblia[i:i+100] \n",
        "except:\n",
        "\n",
        "print(biblia[0:100])"
      ],
      "execution_count": 21,
      "outputs": [
        {
          "output_type": "stream",
          "text": [
            "Drive already mounted at /content/gdrive; to attempt to forcibly remount, call drive.mount(\"/content/gdrive\", force_remount=True).\n",
            "['LA SANTA BIBLIA, ANTIGUO TESTAMENTO, VERSIÓN DE CASIODORO DE REINA (1569) REVISADA POR CIPRIANO DE VALERA (1602), OTRAS REVISIONES: 1862, 1909 Y 1960\\n', '\\n', 'Parte # 1 (INCLUYE LA LEY), los 10 primeros libros del AT: Gn, Ex, Lv, Nm, Dt, Jos, Jue, Rt, 1 S y 2 S\\n', '\\n', '\\n', 'LIBRO PRIMERO DE MOISÉS\\n', '\\n', 'GÉNESIS\\n', '\\n', 'La creación\\n', '\\n', 'Génesis 1\\n', '\\n', 'Génesis 1:1\\n', '          En el principio creó Dios los cielos y la tierra.\\n', '\\n', ' Génesis 1:2\\n', '          Y la tierra estaba desordenada y vacía, y las tinieblas\\n', '          estaban sobre la faz del abismo, y el Espíritu de Dios se\\n', '          movía sobre la faz de las aguas.\\n', '\\n', ' Génesis 1:3\\n', '          Y dijo Dios: Sea la luz; y fue la luz.\\n', '\\n', ' Génesis 1:4\\n', '          Y vio Dios que la luz era buena; y separó Dios la luz de\\n', '          las tinieblas.\\n', '\\n', ' Génesis 1:5\\n', '          Y llamó Dios a la luz Día, y a las tinieblas llamó Noche.\\n', '          Y fue la tarde y la mañana un día.\\n', '\\n', ' Génesis 1:6\\n', '          Luego dijo Dios: Haya expansión en medio de las aguas, y\\n', '          separe las aguas de las aguas.\\n', '\\n', ' Génesis 1:7\\n', '          E hizo Dios la expansión, y separó las aguas que estaban\\n', '          debajo de la expansión, de las aguas que estaban sobre la\\n', '          expansión. Y fue así.\\n', '\\n', ' Génesis 1:8\\n', '          Y llamó Dios a la expansión Cielos. Y fue la tarde y la\\n', '          mañana el día segundo.\\n', '\\n', ' Génesis 1:9\\n', '          Dijo también Dios: Júntense las aguas que están debajo de\\n', '          los cielos en un lugar, y descúbrase lo seco. Y fue así.\\n', '\\n', ' Génesis 1:10\\n', '          Y llamó Dios a lo seco Tierra, y a la reunión de las aguas\\n', '          llamó Mares. Y vio Dios que era bueno.\\n', '\\n', ' Génesis 1:11\\n', '          Después dijo Dios: Produzca la tierra hierba verde, hierba\\n', '          que dé semilla; árbol de fruto que dé fruto según su\\n', '          género, que su semilla esté en él, sobre la tierra. Y fue\\n', '          así.\\n', '\\n', ' Génesis 1:12\\n', '          Produjo, pues, la tierra hierba verde, hierba que da semilla\\n', '          según su naturaleza, y árbol que da fruto, cuya semilla\\n', '          está en él, según su género. Y vio Dios que era bueno.\\n', '\\n', ' Génesis 1:13\\n', '          Y fue la tarde y la mañana el día tercero.\\n', '\\n', ' Génesis 1:14\\n', '          Dijo luego Dios: Haya lumbreras en la expansión de los\\n', '          cielos para separar el día de la noche; y sirvan de\\n', '          señales para las estaciones, para días y años,\\n', '\\n', ' Génesis 1:15\\n', '          y sean por lumbreras en la expansión de los cielos para\\n', '          alumbrar sobre la tierra. Y fue así.\\n', '\\n', ' Génesis 1:16\\n', '          E hizo Dios las dos grandes lumbreras; la lumbrera mayor\\n', '          para que señorease en el día, y la lumbrera menor para que\\n', '          señorease en la noche; hizo también las estrellas.\\n', '\\n', ' Génesis 1:17\\n', '          Y las puso Dios en la expansión de los cielos para alumbrar\\n', '          sobre la tierra,\\n', '\\n', ' Génesis 1:18\\n', '          y para señorear en el día y en la noche, y para separar la\\n', '          luz de las tinieblas. Y vio Dios que era bueno.\\n', '\\n', ' Génesis 1:19\\n', '          Y fue la tarde y la mañana el día cuarto.\\n', '\\n', ' Génesis 1:20\\n', '          Dijo Dios: Produzcan las aguas seres vivientes, y aves que\\n', '          vuelen sobre la tierra, en la abierta expansión de los\\n', '          cielos.\\n', '\\n', ' Génesis 1:21\\n', '          Y creó Dios los grandes monstruos marinos, y todo ser\\n', '          viviente que se mueve, que las aguas produjeron según su\\n']\n"
          ],
          "name": "stdout"
        }
      ]
    }
  ]
}