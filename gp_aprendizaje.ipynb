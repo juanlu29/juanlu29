{
  "nbformat": 4,
  "nbformat_minor": 0,
  "metadata": {
    "colab": {
      "name": "Untitled",
      "provenance": [],
      "collapsed_sections": []
    },
    "kernelspec": {
      "name": "python3",
      "display_name": "Python 3"
    }
  },
  "cells": [
    {
      "cell_type": "code",
      "metadata": {
        "id": "an7GdNIpZ9Pr",
        "colab_type": "code",
        "colab": {}
      },
      "source": [
        "# Modulos y constantes\n",
        "\n",
        "import numpy as np\n",
        "import random\n",
        "import scipy\n",
        "import scipy.linalg\n",
        "\n",
        "pi = np.pi"
      ],
      "execution_count": null,
      "outputs": []
    },
    {
      "cell_type": "markdown",
      "metadata": {
        "id": "REjNF1UyXdut",
        "colab_type": "text"
      },
      "source": [
        "Este google colab sera un espacio donde practicar conceptos básicos sobre procesos gausianos, en general desarrollar clases para reproducir los conceptos básicos de estos y practicar alguna regresión \"de juguete\".\n",
        "\n"
      ]
    },
    {
      "cell_type": "code",
      "metadata": {
        "id": "5dIxZad-Xbvn",
        "colab_type": "code",
        "colab": {}
      },
      "source": [
        "class gaussProcess():\n",
        "  def __init__(self,CovM,Mean):\n",
        "    '''\n",
        "    Los objetos de esta clase modelan procesos gaussianos caracterizados por su promedio y covarianza\n",
        "    '''\n",
        "    self.covM = CovM\n",
        "    self.mean = Mean\n",
        "    self.cholDescomp()\n",
        "\n",
        "  def cholDescomp(self):\n",
        "    '''\n",
        "    Cholesky decomposition\n",
        "    '''\n",
        "    self.L = scipy.linalg.cholesky(self.covM, lower=True)\n",
        "\n",
        "  def multivariateGauss(self,n):\n",
        "    '''\n",
        "    Muestrea colecciones de numeros aleatorios siguiente una distribucion \n",
        "    '''\n",
        "    \n",
        "    # n es la cantidad de numeros gaussianos a generar\n",
        "    gaussNumbers = np.fromiter([ random.random() for x in range(n) ],float)\n",
        "    print(self.L,gaussNumbers.T)\n",
        "    return [self.mean + np.matmul(self.L,gaussNumbers.T)]"
      ],
      "execution_count": null,
      "outputs": []
    },
    {
      "cell_type": "code",
      "metadata": {
        "id": "YMf7KCEkil6k",
        "colab_type": "code",
        "colab": {
          "base_uri": "https://localhost:8080/",
          "height": 86
        },
        "outputId": "2949b5e2-027d-4cb7-a88f-5b891ab75c72"
      },
      "source": [
        "K = np.array([[2,0,0],[0,5,0],[0,0,6]])\n",
        "m = np.array([0,0,0])\n",
        "\n",
        "ejemplo = gaussProcess(K,m)\n",
        "print(ejemplo.multivariateGauss(3))"
      ],
      "execution_count": null,
      "outputs": [
        {
          "output_type": "stream",
          "text": [
            "[[1.41421356 0.         0.        ]\n",
            " [0.         2.23606798 0.        ]\n",
            " [0.         0.         2.44948974]] [0.21451817 0.09365052 0.94886332]\n",
            "[array([0.3033745 , 0.20940893, 2.32423098])]\n"
          ],
          "name": "stdout"
        }
      ]
    }
  ]
}