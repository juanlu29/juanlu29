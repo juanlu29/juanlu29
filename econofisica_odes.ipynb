{
  "nbformat": 4,
  "nbformat_minor": 0,
  "metadata": {
    "colab": {
      "name": "Untitled4.ipynb",
      "provenance": [],
      "authorship_tag": "ABX9TyNkyto/qLfGV5OfHvLp9vY2",
      "include_colab_link": true
    },
    "kernelspec": {
      "name": "python3",
      "display_name": "Python 3"
    }
  },
  "cells": [
    {
      "cell_type": "markdown",
      "metadata": {
        "id": "view-in-github",
        "colab_type": "text"
      },
      "source": [
        "<a href=\"https://colab.research.google.com/github/juanlu29/juanlu29/blob/econofisica/econofisica_odes.ipynb\" target=\"_parent\"><img src=\"https://colab.research.google.com/assets/colab-badge.svg\" alt=\"Open In Colab\"/></a>"
      ]
    },
    {
      "cell_type": "markdown",
      "metadata": {
        "id": "O1EJaASMAaGN",
        "colab_type": "text"
      },
      "source": [
        "##Modelo de economia cerrada. \n",
        "\n",
        "Quiero ver la distribucion de equilibrio de riqueza sobre una red de individuos que intercambian riqueza consumiendo y ofreciendo parte de sus recursos/servicios. La riqueza esta modelada como una cantidad conservativa y es constante sobre el total del sistema. Tenemos un sistema dinamico y las conexiones entre individuos se dan al azar definiendo una matriz de adyaciencia. Se pueden proponer diversos modelos estocásticos para la manera en que los enlaces de cada individuo se conecten con los demas de esta sociedad hipotetica. La ecuacion diferencial para modelar este proceso es como sigue\n",
        "\n",
        "$ \\dot{\\vec{r}} = -\\mathbb{I}_{\\vec{r}} \\mathbf{M}\\vec{\\gamma} + \\mathbb{I}_{\\vec{\\gamma}}\\mathbf{M}\\vec{r}$\n",
        "\n",
        "La distribucion de individuos están caracterizados por sus riquezas $\\vec{r}$, cuyos elementos son el valor de la riqueza $r_{i}$ para individuos representados por el indice $i$. Son valores definidos positivos y la riqueza total $R = \\sum_{i}^{N}{r_{i}}$ es constante por la naturaleza del modelo.\n",
        "\n",
        "$\\mathbf{M}$ es la matriz de adyaciencia, y es simétrica. Sus elementos valen la unidad cuando sus indices $i,j$, representando individuos $i$ y $j$, están conectados mediante una relacion de intercambio.\n",
        "\n",
        "Las componentes del vector $\\vec{\\gamma}$ son el valor del servicio/productos ofrecidos por el individuo cuyo índice del elemento represente. Asi un individuo $i$ consume servicios $\\gamma_{j}$ proporcional a su propia riqueza $r_{i}$ y vende sus servicios $\\gamma_{i}$ proporcionalmente a la riqueza $r_{j}$ de quien la consume, respectivamente. De esta manera nos aseguramos la conservacion total de la riqueza.\n",
        "\n",
        "Para expresar matricialmente el modelo anterior se definen las matrices diagonales $\\mathbb{I}_{\\vec{r}}, \\mathbb{I}_{\\vec{\\gamma}}$ cuyos elementos son las componentes de $\\vec{r}$ y $\\vec{\\gamma}$ respectivamente.\n"
      ]
    },
    {
      "cell_type": "code",
      "metadata": {
        "id": "bNc96fhSIEco",
        "colab_type": "code",
        "colab": {}
      },
      "source": [
        "# Librerias\n",
        "import numpy as np"
      ],
      "execution_count": null,
      "outputs": []
    },
    {
      "cell_type": "code",
      "metadata": {
        "id": "_E-37qo0AX9Y",
        "colab_type": "code",
        "colab": {}
      },
      "source": [
        "class r_punto():\n",
        "  ''''\n",
        "  El valor de la derivada temporal de la riqueza expresada matricialmente en la introduccion de este google colab\n",
        "  '''\n",
        "  def __init__(self,n,gamma,riquezas):\n",
        "     self.N = n # N individuos. Conlleva una matriz de adyaciencia de N x N\n",
        "     # El valor de cada individuo de la red introducido como un ndarray\n",
        "     self.Riquezas = riquezas\n",
        "     # La distribucion de riqueza en la red introducida como un ndarray\n",
        "     self.Gamma = gamma\n",
        "     # Comprobamos que la dimension de los anteriores valores sea n\n",
        "     if self.Gamma.size != self.N or self.Riquezas.size != self.N:\n",
        "       raise NameError(\"El numero de individuos nos se corresponde al de la distribucion de riquezas o valor de trabajo introducidos\")\n",
        "\n",
        "\n",
        "  def matrizAdyacencia_uniforme(self):\n",
        "      '''\n",
        "      Genera matriz de adyaciencia estableciendo una probabilidad uniforme p entre generar o no conexion\n",
        "      '''\n",
        "      distribucion_1D_np =  np.random.choice(2, size=self.N*self.N-self.N)\n",
        "      self.M = np.zeros((self.N,self.N))\n",
        "      self.M[np.triu_indices(self.M.shape[0], k = 0)] = distribucion_1D_np\n",
        "      self.M = self.M + self.M.T - 2*np.diag(np.diag(self.M))"
      ],
      "execution_count": null,
      "outputs": []
    },
    {
      "cell_type": "code",
      "metadata": {
        "id": "MztJzBosREKy",
        "colab_type": "code",
        "colab": {
          "base_uri": "https://localhost:8080/",
          "height": 324
        },
        "outputId": "b6d967c9-e7c9-49bd-d68b-d22c349d078c"
      },
      "source": [
        "riquezas = np.arange(10)\n",
        "gamma = np.arange(10)\n",
        "red_1 = r_punto(10,riquezas,gamma)\n",
        "red_1.matrizAdyacencia_uniforme()\n",
        "print(red_1.M)"
      ],
      "execution_count": null,
      "outputs": [
        {
          "output_type": "error",
          "ename": "ValueError",
          "evalue": "ignored",
          "traceback": [
            "\u001b[0;31m---------------------------------------------------------------------------\u001b[0m",
            "\u001b[0;31mValueError\u001b[0m                                Traceback (most recent call last)",
            "\u001b[0;32m<ipython-input-12-72c9d3240641>\u001b[0m in \u001b[0;36m<module>\u001b[0;34m()\u001b[0m\n\u001b[1;32m      2\u001b[0m \u001b[0mgamma\u001b[0m \u001b[0;34m=\u001b[0m \u001b[0mnp\u001b[0m\u001b[0;34m.\u001b[0m\u001b[0marange\u001b[0m\u001b[0;34m(\u001b[0m\u001b[0;36m10\u001b[0m\u001b[0;34m)\u001b[0m\u001b[0;34m\u001b[0m\u001b[0;34m\u001b[0m\u001b[0m\n\u001b[1;32m      3\u001b[0m \u001b[0mred_1\u001b[0m \u001b[0;34m=\u001b[0m \u001b[0mr_punto\u001b[0m\u001b[0;34m(\u001b[0m\u001b[0;36m10\u001b[0m\u001b[0;34m,\u001b[0m\u001b[0mriquezas\u001b[0m\u001b[0;34m,\u001b[0m\u001b[0mgamma\u001b[0m\u001b[0;34m)\u001b[0m\u001b[0;34m\u001b[0m\u001b[0;34m\u001b[0m\u001b[0m\n\u001b[0;32m----> 4\u001b[0;31m \u001b[0mred_1\u001b[0m\u001b[0;34m.\u001b[0m\u001b[0mmatrizAdyacencia_uniforme\u001b[0m\u001b[0;34m(\u001b[0m\u001b[0;34m)\u001b[0m\u001b[0;34m\u001b[0m\u001b[0;34m\u001b[0m\u001b[0m\n\u001b[0m\u001b[1;32m      5\u001b[0m \u001b[0mprint\u001b[0m\u001b[0;34m(\u001b[0m\u001b[0mred_1\u001b[0m\u001b[0;34m.\u001b[0m\u001b[0mM\u001b[0m\u001b[0;34m)\u001b[0m\u001b[0;34m\u001b[0m\u001b[0;34m\u001b[0m\u001b[0m\n",
            "\u001b[0;32m<ipython-input-11-37fa559be391>\u001b[0m in \u001b[0;36mmatrizAdyacencia_uniforme\u001b[0;34m(self)\u001b[0m\n\u001b[1;32m     20\u001b[0m       \u001b[0mdistribucion_1D_np\u001b[0m \u001b[0;34m=\u001b[0m  \u001b[0mnp\u001b[0m\u001b[0;34m.\u001b[0m\u001b[0mrandom\u001b[0m\u001b[0;34m.\u001b[0m\u001b[0mchoice\u001b[0m\u001b[0;34m(\u001b[0m\u001b[0;36m2\u001b[0m\u001b[0;34m,\u001b[0m \u001b[0msize\u001b[0m\u001b[0;34m=\u001b[0m\u001b[0mself\u001b[0m\u001b[0;34m.\u001b[0m\u001b[0mN\u001b[0m\u001b[0;34m*\u001b[0m\u001b[0mself\u001b[0m\u001b[0;34m.\u001b[0m\u001b[0mN\u001b[0m\u001b[0;34m-\u001b[0m\u001b[0mself\u001b[0m\u001b[0;34m.\u001b[0m\u001b[0mN\u001b[0m\u001b[0;34m)\u001b[0m\u001b[0;34m\u001b[0m\u001b[0;34m\u001b[0m\u001b[0m\n\u001b[1;32m     21\u001b[0m       \u001b[0mself\u001b[0m\u001b[0;34m.\u001b[0m\u001b[0mM\u001b[0m \u001b[0;34m=\u001b[0m \u001b[0mnp\u001b[0m\u001b[0;34m.\u001b[0m\u001b[0mzeros\u001b[0m\u001b[0;34m(\u001b[0m\u001b[0;34m(\u001b[0m\u001b[0mself\u001b[0m\u001b[0;34m.\u001b[0m\u001b[0mN\u001b[0m\u001b[0;34m,\u001b[0m\u001b[0mself\u001b[0m\u001b[0;34m.\u001b[0m\u001b[0mN\u001b[0m\u001b[0;34m)\u001b[0m\u001b[0;34m)\u001b[0m\u001b[0;34m\u001b[0m\u001b[0;34m\u001b[0m\u001b[0m\n\u001b[0;32m---> 22\u001b[0;31m       \u001b[0mself\u001b[0m\u001b[0;34m.\u001b[0m\u001b[0mM\u001b[0m\u001b[0;34m[\u001b[0m\u001b[0mnp\u001b[0m\u001b[0;34m.\u001b[0m\u001b[0mtriu_indices\u001b[0m\u001b[0;34m(\u001b[0m\u001b[0mself\u001b[0m\u001b[0;34m.\u001b[0m\u001b[0mM\u001b[0m\u001b[0;34m.\u001b[0m\u001b[0mshape\u001b[0m\u001b[0;34m[\u001b[0m\u001b[0;36m0\u001b[0m\u001b[0;34m]\u001b[0m\u001b[0;34m,\u001b[0m \u001b[0mk\u001b[0m \u001b[0;34m=\u001b[0m \u001b[0;36m0\u001b[0m\u001b[0;34m)\u001b[0m\u001b[0;34m]\u001b[0m \u001b[0;34m=\u001b[0m \u001b[0mdistribucion_1D_np\u001b[0m\u001b[0;34m\u001b[0m\u001b[0;34m\u001b[0m\u001b[0m\n\u001b[0m\u001b[1;32m     23\u001b[0m       \u001b[0mself\u001b[0m\u001b[0;34m.\u001b[0m\u001b[0mM\u001b[0m \u001b[0;34m=\u001b[0m \u001b[0mself\u001b[0m\u001b[0;34m.\u001b[0m\u001b[0mM\u001b[0m \u001b[0;34m+\u001b[0m \u001b[0mself\u001b[0m\u001b[0;34m.\u001b[0m\u001b[0mM\u001b[0m\u001b[0;34m.\u001b[0m\u001b[0mT\u001b[0m \u001b[0;34m-\u001b[0m \u001b[0;36m2\u001b[0m\u001b[0;34m*\u001b[0m\u001b[0mnp\u001b[0m\u001b[0;34m.\u001b[0m\u001b[0mdiag\u001b[0m\u001b[0;34m(\u001b[0m\u001b[0mnp\u001b[0m\u001b[0;34m.\u001b[0m\u001b[0mdiag\u001b[0m\u001b[0;34m(\u001b[0m\u001b[0mself\u001b[0m\u001b[0;34m.\u001b[0m\u001b[0mM\u001b[0m\u001b[0;34m)\u001b[0m\u001b[0;34m)\u001b[0m\u001b[0;34m\u001b[0m\u001b[0;34m\u001b[0m\u001b[0m\n",
            "\u001b[0;31mValueError\u001b[0m: shape mismatch: value array of shape (90,) could not be broadcast to indexing result of shape (55,)"
          ]
        }
      ]
    }
  ]
}