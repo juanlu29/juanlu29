{
  "nbformat": 4,
  "nbformat_minor": 0,
  "metadata": {
    "colab": {
      "name": "Untitled4.ipynb",
      "provenance": [],
      "authorship_tag": "ABX9TyOzaKKQSArZR+AIalJ2RQvl",
      "include_colab_link": true
    },
    "kernelspec": {
      "name": "python3",
      "display_name": "Python 3"
    }
  },
  "cells": [
    {
      "cell_type": "markdown",
      "metadata": {
        "id": "view-in-github",
        "colab_type": "text"
      },
      "source": [
        "<a href=\"https://colab.research.google.com/github/juanlu29/juanlu29/blob/econofisica/econofisica_odes.ipynb\" target=\"_parent\"><img src=\"https://colab.research.google.com/assets/colab-badge.svg\" alt=\"Open In Colab\"/></a>"
      ]
    },
    {
      "cell_type": "markdown",
      "metadata": {
        "id": "O1EJaASMAaGN",
        "colab_type": "text"
      },
      "source": [
        "##Modelo de economia cerrada. \n",
        "\n",
        "Quiero ver la distribucion de equilibrio de riqueza sobre una red de individuos que intercambian riqueza consumiendo y ofreciendo parte de sus recursos/servicios. La riqueza esta modelada como una cantidad conservativa y es constante sobre el total del sistema. Tenemos un sistema dinamico y las conexiones entre individuos se dan al azar definiendo una matriz de adyaciencia. Se pueden proponer diversos modelos estocásticos para la manera en que los enlaces de cada individuo se conecten con los demas de esta sociedad hipotetica. La ecuacion diferencial para modelar este proceso es como sigue\n",
        "\n",
        "$ \\dot{\\vec{r}} = -\\mathbb{I}_{\\vec{r}} \\mathbf{M}\\vec{\\gamma} + \\mathbb{I}_{\\vec{\\gamma}}\\mathbf{M}\\vec{r}$\n",
        "\n",
        "La distribucion de individuos están caracterizados por sus riquezas $\\vec{r}$, cuyos elementos son el valor de la riqueza $r_{i}$ para individuos representados por el indice $i$. Son valores definidos positivos y la riqueza total $R = \\sum_{i}^{N}{r_{i}}$ es constante por la naturaleza del modelo.\n",
        "\n",
        "$\\mathbf{M}$ es la matriz de adyaciencia, y es simétrica. Sus elementos valen la unidad cuando sus indices $i,j$, representando individuos $i$ y $j$, están conectados mediante una relacion de intercambio.\n",
        "\n",
        "Las componentes del vector $\\vec{\\gamma}$ son el valor del servicio/productos ofrecidos por el individuo cuyo índice del elemento represente. Asi un individuo $i$ consume servicios $\\gamma_{j}$ proporcional a su propia riqueza $r_{i}$ y vende sus servicios $\\gamma_{i}$ proporcionalmente a la riqueza $r_{j}$ de quien la consume, respectivamente. De esta manera nos aseguramos la conservacion total de la riqueza.\n",
        "\n",
        "Para expresar matricialmente el modelo anterior se definen las matrices diagonales $\\mathbb{I}_{\\vec{r}}, \\mathbb{I}_{\\vec{\\gamma}}$ cuyos elementos son las componentes de $\\vec{r}$ y $\\vec{\\gamma}$ respectivamente.\n"
      ]
    },
    {
      "cell_type": "code",
      "metadata": {
        "id": "bNc96fhSIEco",
        "colab_type": "code",
        "colab": {}
      },
      "source": [
        "# Librerias\n",
        "import matplotlib.pyplot as plt\n",
        "import numpy as np\n",
        "from scipy.integrate import odeint"
      ],
      "execution_count": 160,
      "outputs": []
    },
    {
      "cell_type": "code",
      "metadata": {
        "id": "_E-37qo0AX9Y",
        "colab_type": "code",
        "colab": {}
      },
      "source": [
        "class r_punto():\n",
        "  ''''\n",
        "  El valor de la derivada temporal de la riqueza expresada matricialmente en la introduccion de este google colab\n",
        "  '''\n",
        "  def __init__(self,n,gamma,riquezas,tiempo):\n",
        "     self.N = n # N individuos. Conlleva una matriz de adyaciencia de N x N\n",
        "     # El valor de cada individuo de la red introducido como un ndarray\n",
        "     self.Riquezas = riquezas\n",
        "     # La distribucion de riqueza en la red introducida como un ndarray\n",
        "     self.Gamma = gamma\n",
        "     # Comprobamos que la dimension de los anteriores valores sea n\n",
        "     if gamma.size != n or riquezas.size != n:\n",
        "       raise NameError(\"El numero de individuos nos se corresponde al de la distribucion de riquezas o valor de trabajo introducidos\")\n",
        "     # Calculamos la matriz de adyacencia, la derivada temporal del sistema y su jacobiano\n",
        "     self.matrizAdyacencia_uniforme()\n",
        "     self.matrizSistema()\n",
        "     self.jacobianoSistema()\n",
        "     self.t = tiempo\n",
        "     \n",
        "\n",
        "\n",
        "  def matrizAdyacencia_uniforme(self):\n",
        "      '''\n",
        "      Genera matriz de adyaciencia estableciendo una probabilidad uniforme p entre generar o no conexion\n",
        "      '''\n",
        "      distribucion_1D_np =  np.random.choice(2, size=int(((self.N*self.N-self.N)/2) + self.N))\n",
        "      self.M = np.zeros((self.N,self.N))\n",
        "      self.M[np.triu_indices(self.N, k = 0)] = distribucion_1D_np\n",
        "      self.M = self.M + self.M.T - 2*np.diag(np.diag(self.M))\n",
        "\n",
        "\n",
        "  def drdt(self,y,t):\n",
        "    '''\n",
        "    Devuelve la derivada temporal de las riquezas\n",
        "    '''\n",
        "    self.matrizSistema()\n",
        "    return self.S_drdt\n",
        "\n",
        "  def jacobiano(self,y,t):\n",
        "    '''\n",
        "    Devuelve jacobiano del sistema\n",
        "    '''\n",
        "    self.jacobianoSistema()\n",
        "    return self.J_drdt\n",
        "\n",
        "  def matrizSistema(self):\n",
        "    '''\n",
        "    Calcula la matriz que expresa la derivada temporal de la \"riqueza\"\n",
        "    '''\n",
        "    self.S_drdt = -np.matmul(np.matmul(np.diag(self.Riquezas),self.M),self.Gamma.T) + np.matmul(np.matmul(np.diag(self.Gamma),self.M),self.Riquezas.T)\n",
        "\n",
        "  def jacobianoSistema(self):\n",
        "    '''\n",
        "    Calcula el Jacobiano de la matriz del sistema\n",
        "    '''\n",
        "    self.J_drdt = -np.matmul(np.eye(self.N,dtype=int),np.matmul(self.M,self.Gamma)) + np.matmul(np.diag(self.Gamma),self.M)\n",
        "\n",
        "  def integracion(self,dt):\n",
        "    '''\n",
        "    Integra un paso temporal el sistema\n",
        "    '''\n",
        "    self.Riquezas = odeint(self.drdt, self.Riquezas, np.array([self.t,self.t+dt]), Dfun=self.jacobiano)[1]\n",
        "    self.t = self.t + dt\n"
      ],
      "execution_count": 157,
      "outputs": []
    },
    {
      "cell_type": "code",
      "metadata": {
        "id": "MztJzBosREKy",
        "colab_type": "code",
        "colab": {
          "base_uri": "https://localhost:8080/",
          "height": 400
        },
        "outputId": "47d17ba0-5fa2-4f37-a682-e7f8d61b119d"
      },
      "source": [
        "n = 1000\n",
        "x_rand = np.random.normal(loc=1., scale=10., size=n)\n",
        "SS = 50.\n",
        "riquezas = (1./np.sqrt(2*np.pi))*np.exp(-np.power(x_rand,2)/SS)\n",
        "gamma = np.random.normal(loc=1., scale=1.0, size=n)\n",
        "red_1 = r_punto(n,gamma,riquezas,0.)\n",
        "y = []\n",
        "t = []\n",
        "tiempo = 0\n",
        "dt = 0.00003\n",
        "for i in range(1000):\n",
        "  t.append(tiempo)\n",
        "  y.append(red_1.Riquezas)\n",
        "  red_1.integracion(dt)\n",
        "  tiempo = tiempo + dt\n",
        "\n",
        "y = np.array(y)\n",
        "print(y[500])\n",
        "for i in range(n):\n",
        "  plt.plot(t,y[:,i])"
      ],
      "execution_count": 182,
      "outputs": [
        {
          "output_type": "error",
          "ename": "KeyboardInterrupt",
          "evalue": "ignored",
          "traceback": [
            "\u001b[0;31m---------------------------------------------------------------------------\u001b[0m",
            "\u001b[0;31mKeyboardInterrupt\u001b[0m                         Traceback (most recent call last)",
            "\u001b[0;32m<ipython-input-182-b03b0221bacb>\u001b[0m in \u001b[0;36m<module>\u001b[0;34m()\u001b[0m\n\u001b[1;32m     12\u001b[0m   \u001b[0mt\u001b[0m\u001b[0;34m.\u001b[0m\u001b[0mappend\u001b[0m\u001b[0;34m(\u001b[0m\u001b[0mtiempo\u001b[0m\u001b[0;34m)\u001b[0m\u001b[0;34m\u001b[0m\u001b[0;34m\u001b[0m\u001b[0m\n\u001b[1;32m     13\u001b[0m   \u001b[0my\u001b[0m\u001b[0;34m.\u001b[0m\u001b[0mappend\u001b[0m\u001b[0;34m(\u001b[0m\u001b[0mred_1\u001b[0m\u001b[0;34m.\u001b[0m\u001b[0mRiquezas\u001b[0m\u001b[0;34m)\u001b[0m\u001b[0;34m\u001b[0m\u001b[0;34m\u001b[0m\u001b[0m\n\u001b[0;32m---> 14\u001b[0;31m   \u001b[0mred_1\u001b[0m\u001b[0;34m.\u001b[0m\u001b[0mintegracion\u001b[0m\u001b[0;34m(\u001b[0m\u001b[0mdt\u001b[0m\u001b[0;34m)\u001b[0m\u001b[0;34m\u001b[0m\u001b[0;34m\u001b[0m\u001b[0m\n\u001b[0m\u001b[1;32m     15\u001b[0m   \u001b[0mtiempo\u001b[0m \u001b[0;34m=\u001b[0m \u001b[0mtiempo\u001b[0m \u001b[0;34m+\u001b[0m \u001b[0mdt\u001b[0m\u001b[0;34m\u001b[0m\u001b[0;34m\u001b[0m\u001b[0m\n\u001b[1;32m     16\u001b[0m \u001b[0;34m\u001b[0m\u001b[0m\n",
            "\u001b[0;32m<ipython-input-157-fe96cdcefc1f>\u001b[0m in \u001b[0;36mintegracion\u001b[0;34m(self, dt)\u001b[0m\n\u001b[1;32m     60\u001b[0m     \u001b[0mIntegra\u001b[0m \u001b[0mun\u001b[0m \u001b[0mpaso\u001b[0m \u001b[0mtemporal\u001b[0m \u001b[0mel\u001b[0m \u001b[0msistema\u001b[0m\u001b[0;34m\u001b[0m\u001b[0;34m\u001b[0m\u001b[0m\n\u001b[1;32m     61\u001b[0m     '''\n\u001b[0;32m---> 62\u001b[0;31m     \u001b[0mself\u001b[0m\u001b[0;34m.\u001b[0m\u001b[0mRiquezas\u001b[0m \u001b[0;34m=\u001b[0m \u001b[0modeint\u001b[0m\u001b[0;34m(\u001b[0m\u001b[0mself\u001b[0m\u001b[0;34m.\u001b[0m\u001b[0mdrdt\u001b[0m\u001b[0;34m,\u001b[0m \u001b[0mself\u001b[0m\u001b[0;34m.\u001b[0m\u001b[0mRiquezas\u001b[0m\u001b[0;34m,\u001b[0m \u001b[0mnp\u001b[0m\u001b[0;34m.\u001b[0m\u001b[0marray\u001b[0m\u001b[0;34m(\u001b[0m\u001b[0;34m[\u001b[0m\u001b[0mself\u001b[0m\u001b[0;34m.\u001b[0m\u001b[0mt\u001b[0m\u001b[0;34m,\u001b[0m\u001b[0mself\u001b[0m\u001b[0;34m.\u001b[0m\u001b[0mt\u001b[0m\u001b[0;34m+\u001b[0m\u001b[0mdt\u001b[0m\u001b[0;34m]\u001b[0m\u001b[0;34m)\u001b[0m\u001b[0;34m,\u001b[0m \u001b[0mDfun\u001b[0m\u001b[0;34m=\u001b[0m\u001b[0mself\u001b[0m\u001b[0;34m.\u001b[0m\u001b[0mjacobiano\u001b[0m\u001b[0;34m)\u001b[0m\u001b[0;34m[\u001b[0m\u001b[0;36m1\u001b[0m\u001b[0;34m]\u001b[0m\u001b[0;34m\u001b[0m\u001b[0;34m\u001b[0m\u001b[0m\n\u001b[0m\u001b[1;32m     63\u001b[0m     \u001b[0mself\u001b[0m\u001b[0;34m.\u001b[0m\u001b[0mt\u001b[0m \u001b[0;34m=\u001b[0m \u001b[0mself\u001b[0m\u001b[0;34m.\u001b[0m\u001b[0mt\u001b[0m \u001b[0;34m+\u001b[0m \u001b[0mdt\u001b[0m\u001b[0;34m\u001b[0m\u001b[0;34m\u001b[0m\u001b[0m\n",
            "\u001b[0;32m/usr/local/lib/python3.6/dist-packages/scipy/integrate/odepack.py\u001b[0m in \u001b[0;36modeint\u001b[0;34m(func, y0, t, args, Dfun, col_deriv, full_output, ml, mu, rtol, atol, tcrit, h0, hmax, hmin, ixpr, mxstep, mxhnil, mxordn, mxords, printmessg, tfirst)\u001b[0m\n\u001b[1;32m    243\u001b[0m                              \u001b[0mfull_output\u001b[0m\u001b[0;34m,\u001b[0m \u001b[0mrtol\u001b[0m\u001b[0;34m,\u001b[0m \u001b[0matol\u001b[0m\u001b[0;34m,\u001b[0m \u001b[0mtcrit\u001b[0m\u001b[0;34m,\u001b[0m \u001b[0mh0\u001b[0m\u001b[0;34m,\u001b[0m \u001b[0mhmax\u001b[0m\u001b[0;34m,\u001b[0m \u001b[0mhmin\u001b[0m\u001b[0;34m,\u001b[0m\u001b[0;34m\u001b[0m\u001b[0;34m\u001b[0m\u001b[0m\n\u001b[1;32m    244\u001b[0m                              \u001b[0mixpr\u001b[0m\u001b[0;34m,\u001b[0m \u001b[0mmxstep\u001b[0m\u001b[0;34m,\u001b[0m \u001b[0mmxhnil\u001b[0m\u001b[0;34m,\u001b[0m \u001b[0mmxordn\u001b[0m\u001b[0;34m,\u001b[0m \u001b[0mmxords\u001b[0m\u001b[0;34m,\u001b[0m\u001b[0;34m\u001b[0m\u001b[0;34m\u001b[0m\u001b[0m\n\u001b[0;32m--> 245\u001b[0;31m                              int(bool(tfirst)))\n\u001b[0m\u001b[1;32m    246\u001b[0m     \u001b[0;32mif\u001b[0m \u001b[0moutput\u001b[0m\u001b[0;34m[\u001b[0m\u001b[0;34m-\u001b[0m\u001b[0;36m1\u001b[0m\u001b[0;34m]\u001b[0m \u001b[0;34m<\u001b[0m \u001b[0;36m0\u001b[0m\u001b[0;34m:\u001b[0m\u001b[0;34m\u001b[0m\u001b[0;34m\u001b[0m\u001b[0m\n\u001b[1;32m    247\u001b[0m         \u001b[0mwarning_msg\u001b[0m \u001b[0;34m=\u001b[0m \u001b[0m_msgs\u001b[0m\u001b[0;34m[\u001b[0m\u001b[0moutput\u001b[0m\u001b[0;34m[\u001b[0m\u001b[0;34m-\u001b[0m\u001b[0;36m1\u001b[0m\u001b[0;34m]\u001b[0m\u001b[0;34m]\u001b[0m \u001b[0;34m+\u001b[0m \u001b[0;34m\" Run with full_output = 1 to get quantitative information.\"\u001b[0m\u001b[0;34m\u001b[0m\u001b[0;34m\u001b[0m\u001b[0m\n",
            "\u001b[0;32m<ipython-input-157-fe96cdcefc1f>\u001b[0m in \u001b[0;36mdrdt\u001b[0;34m(self, y, t)\u001b[0m\n\u001b[1;32m     34\u001b[0m     \u001b[0mDevuelve\u001b[0m \u001b[0mla\u001b[0m \u001b[0mderivada\u001b[0m \u001b[0mtemporal\u001b[0m \u001b[0mde\u001b[0m \u001b[0mlas\u001b[0m \u001b[0mriquezas\u001b[0m\u001b[0;34m\u001b[0m\u001b[0;34m\u001b[0m\u001b[0m\n\u001b[1;32m     35\u001b[0m     '''\n\u001b[0;32m---> 36\u001b[0;31m     \u001b[0mself\u001b[0m\u001b[0;34m.\u001b[0m\u001b[0mmatrizSistema\u001b[0m\u001b[0;34m(\u001b[0m\u001b[0;34m)\u001b[0m\u001b[0;34m\u001b[0m\u001b[0;34m\u001b[0m\u001b[0m\n\u001b[0m\u001b[1;32m     37\u001b[0m     \u001b[0;32mreturn\u001b[0m \u001b[0mself\u001b[0m\u001b[0;34m.\u001b[0m\u001b[0mS_drdt\u001b[0m\u001b[0;34m\u001b[0m\u001b[0;34m\u001b[0m\u001b[0m\n\u001b[1;32m     38\u001b[0m \u001b[0;34m\u001b[0m\u001b[0m\n",
            "\u001b[0;32m<ipython-input-157-fe96cdcefc1f>\u001b[0m in \u001b[0;36mmatrizSistema\u001b[0;34m(self)\u001b[0m\n\u001b[1;32m     48\u001b[0m     \u001b[0mCalcula\u001b[0m \u001b[0mla\u001b[0m \u001b[0mmatriz\u001b[0m \u001b[0mque\u001b[0m \u001b[0mexpresa\u001b[0m \u001b[0mla\u001b[0m \u001b[0mderivada\u001b[0m \u001b[0mtemporal\u001b[0m \u001b[0mde\u001b[0m \u001b[0mla\u001b[0m \u001b[0;34m\"riqueza\"\u001b[0m\u001b[0;34m\u001b[0m\u001b[0;34m\u001b[0m\u001b[0m\n\u001b[1;32m     49\u001b[0m     '''\n\u001b[0;32m---> 50\u001b[0;31m     \u001b[0mself\u001b[0m\u001b[0;34m.\u001b[0m\u001b[0mS_drdt\u001b[0m \u001b[0;34m=\u001b[0m \u001b[0;34m-\u001b[0m\u001b[0mnp\u001b[0m\u001b[0;34m.\u001b[0m\u001b[0mmatmul\u001b[0m\u001b[0;34m(\u001b[0m\u001b[0mnp\u001b[0m\u001b[0;34m.\u001b[0m\u001b[0mmatmul\u001b[0m\u001b[0;34m(\u001b[0m\u001b[0mnp\u001b[0m\u001b[0;34m.\u001b[0m\u001b[0mdiag\u001b[0m\u001b[0;34m(\u001b[0m\u001b[0mself\u001b[0m\u001b[0;34m.\u001b[0m\u001b[0mRiquezas\u001b[0m\u001b[0;34m)\u001b[0m\u001b[0;34m,\u001b[0m\u001b[0mself\u001b[0m\u001b[0;34m.\u001b[0m\u001b[0mM\u001b[0m\u001b[0;34m)\u001b[0m\u001b[0;34m,\u001b[0m\u001b[0mself\u001b[0m\u001b[0;34m.\u001b[0m\u001b[0mGamma\u001b[0m\u001b[0;34m.\u001b[0m\u001b[0mT\u001b[0m\u001b[0;34m)\u001b[0m \u001b[0;34m+\u001b[0m \u001b[0mnp\u001b[0m\u001b[0;34m.\u001b[0m\u001b[0mmatmul\u001b[0m\u001b[0;34m(\u001b[0m\u001b[0mnp\u001b[0m\u001b[0;34m.\u001b[0m\u001b[0mmatmul\u001b[0m\u001b[0;34m(\u001b[0m\u001b[0mnp\u001b[0m\u001b[0;34m.\u001b[0m\u001b[0mdiag\u001b[0m\u001b[0;34m(\u001b[0m\u001b[0mself\u001b[0m\u001b[0;34m.\u001b[0m\u001b[0mGamma\u001b[0m\u001b[0;34m)\u001b[0m\u001b[0;34m,\u001b[0m\u001b[0mself\u001b[0m\u001b[0;34m.\u001b[0m\u001b[0mM\u001b[0m\u001b[0;34m)\u001b[0m\u001b[0;34m,\u001b[0m\u001b[0mself\u001b[0m\u001b[0;34m.\u001b[0m\u001b[0mRiquezas\u001b[0m\u001b[0;34m.\u001b[0m\u001b[0mT\u001b[0m\u001b[0;34m)\u001b[0m\u001b[0;34m\u001b[0m\u001b[0;34m\u001b[0m\u001b[0m\n\u001b[0m\u001b[1;32m     51\u001b[0m \u001b[0;34m\u001b[0m\u001b[0m\n\u001b[1;32m     52\u001b[0m   \u001b[0;32mdef\u001b[0m \u001b[0mjacobianoSistema\u001b[0m\u001b[0;34m(\u001b[0m\u001b[0mself\u001b[0m\u001b[0;34m)\u001b[0m\u001b[0;34m:\u001b[0m\u001b[0;34m\u001b[0m\u001b[0;34m\u001b[0m\u001b[0m\n",
            "\u001b[0;31mKeyboardInterrupt\u001b[0m: "
          ]
        }
      ]
    }
  ]
}