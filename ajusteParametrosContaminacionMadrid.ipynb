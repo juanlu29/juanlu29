{
  "nbformat": 4,
  "nbformat_minor": 0,
  "metadata": {
    "colab": {
      "name": "Untitled6.ipynb",
      "provenance": [],
      "toc_visible": true,
      "mount_file_id": "https://github.com/juanlu29/juanlu29/blob/contaminacionMadrid/ajusteParametrosContaminacionMadrid.ipynb",
      "authorship_tag": "ABX9TyPXXZW5rL/L1qr1aU2KrT77",
      "include_colab_link": true
    },
    "kernelspec": {
      "name": "python3",
      "display_name": "Python 3"
    }
  },
  "cells": [
    {
      "cell_type": "markdown",
      "metadata": {
        "id": "view-in-github",
        "colab_type": "text"
      },
      "source": [
        "<a href=\"https://colab.research.google.com/github/juanlu29/juanlu29/blob/contaminacionMadrid/ajusteParametrosContaminacionMadrid.ipynb\" target=\"_parent\"><img src=\"https://colab.research.google.com/assets/colab-badge.svg\" alt=\"Open In Colab\"/></a>"
      ]
    },
    {
      "cell_type": "markdown",
      "metadata": {
        "id": "VCXDS-IsAnU_",
        "colab_type": "text"
      },
      "source": [
        "### Optimizacion parametros para ajustar a los datos de contaminación de Madrid\n"
      ]
    },
    {
      "cell_type": "code",
      "metadata": {
        "id": "uAlIR3ZxAm2l",
        "colab_type": "code",
        "colab": {
          "base_uri": "https://localhost:8080/",
          "height": 552
        },
        "outputId": "ee8d2124-c5ba-450d-f383-9cf29ed7ce17"
      },
      "source": [
        "# Importamos librerias \n",
        "import numpy as np\n",
        "import random\n",
        "import scipy\n",
        "import scipy.linalg\n",
        "from matplotlib import pyplot as plt\n",
        "import seaborn as sns\n",
        "from google.colab import drive\n",
        "import pandas as pd\n",
        "import numba\n",
        "from scipy.optimize import minimize\n",
        "drive.mount('/content/drive')\n",
        "\n",
        "!ls \n",
        "\n",
        "# Copiamos e importamos la libreria\n",
        "!cp \"/libreriaGP100.py\"\n",
        "import libreriaGP100 as gp\n",
        "\n",
        "# Exploramos los directorios de drive. Cambiamos directorio a donde estan los datos\n",
        "%cd /content/drive/My\\ Drive/datosContaminacionMadrid\n",
        "\n",
        "!ls \n",
        "\n",
        "\n",
        "# Lo pasamos a dataframes\n",
        "est56NO2_df = pd.read_csv('Est56FL_CodPar08NO2_valuesonly.txt', header=0)\n",
        "est24NO2_df = pd.read_csv('Est24CC_CodPar08NO2_valuesonly.txt', header=0)\n",
        "est03NO2_df = pd.read_csv('Est03PlC_CodPar08NO2_valuesonly.txt', header=0)\n",
        "est03O3_df  = pd.read_csv('Est03PlC_CodPar14O3_valuesonly.txt', header=0)"
      ],
      "execution_count": 110,
      "outputs": [
        {
          "output_type": "stream",
          "text": [
            "Drive already mounted at /content/drive; to attempt to forcibly remount, call drive.mount(\"/content/drive\", force_remount=True).\n",
            "cloned-repo\t\t\t     K_OU_experimental\n",
            "Est03PlC_CodPar08NO2_valuesonly.txt  K_OU_experimental.csv\n",
            "Est03PlC_CodPar14O3_valuesonly.txt   libreriaGP100.py\n",
            "Est24CC_CodPar08NO2_valuesonly.txt   reporteGP_1_inferencia_kernel_exp.odt\n",
            "Est56FL_CodPar08NO2_valuesonly.txt\n",
            "cp: missing destination file operand after '/libreriaGP100.py'\n",
            "Try 'cp --help' for more information.\n"
          ],
          "name": "stdout"
        },
        {
          "output_type": "error",
          "ename": "ModuleNotFoundError",
          "evalue": "ignored",
          "traceback": [
            "\u001b[0;31m---------------------------------------------------------------------------\u001b[0m",
            "\u001b[0;31mModuleNotFoundError\u001b[0m                       Traceback (most recent call last)",
            "\u001b[0;32m<ipython-input-110-2e2ee6f9e956>\u001b[0m in \u001b[0;36m<module>\u001b[0;34m()\u001b[0m\n\u001b[1;32m     16\u001b[0m \u001b[0;31m# Copiamos e importamos la libreria\u001b[0m\u001b[0;34m\u001b[0m\u001b[0;34m\u001b[0m\u001b[0;34m\u001b[0m\u001b[0m\n\u001b[1;32m     17\u001b[0m \u001b[0mget_ipython\u001b[0m\u001b[0;34m(\u001b[0m\u001b[0;34m)\u001b[0m\u001b[0;34m.\u001b[0m\u001b[0msystem\u001b[0m\u001b[0;34m(\u001b[0m\u001b[0;34m'cp \"/libreriaGP100.py\"'\u001b[0m\u001b[0;34m)\u001b[0m\u001b[0;34m\u001b[0m\u001b[0;34m\u001b[0m\u001b[0m\n\u001b[0;32m---> 18\u001b[0;31m \u001b[0;32mimport\u001b[0m \u001b[0mlibreriaGP100\u001b[0m \u001b[0;32mas\u001b[0m \u001b[0mgp\u001b[0m\u001b[0;34m\u001b[0m\u001b[0;34m\u001b[0m\u001b[0m\n\u001b[0m\u001b[1;32m     19\u001b[0m \u001b[0;34m\u001b[0m\u001b[0m\n\u001b[1;32m     20\u001b[0m \u001b[0;31m# Exploramos los directorios de drive. Cambiamos directorio a donde estan los datos\u001b[0m\u001b[0;34m\u001b[0m\u001b[0;34m\u001b[0m\u001b[0;34m\u001b[0m\u001b[0m\n",
            "\u001b[0;31mModuleNotFoundError\u001b[0m: No module named 'libreriaGP100'",
            "",
            "\u001b[0;31m---------------------------------------------------------------------------\u001b[0;32m\nNOTE: If your import is failing due to a missing package, you can\nmanually install dependencies using either !pip or !apt.\n\nTo view examples of installing some common dependencies, click the\n\"Open Examples\" button below.\n\u001b[0;31m---------------------------------------------------------------------------\u001b[0m\n"
          ]
        }
      ]
    },
    {
      "cell_type": "code",
      "metadata": {
        "id": "FxAeSJj9Az4T",
        "colab_type": "code",
        "colab": {
          "base_uri": "https://localhost:8080/",
          "height": 330
        },
        "outputId": "c234a505-3f73-4a88-c22d-25965ad061f2"
      },
      "source": [
        "est56NO2_np = est56NO2_df.to_numpy()\n",
        "est56NO2_np = est56NO2_np[0:400]\n",
        "\n",
        "# Creamos el objeto para generar procesos gausianos\n",
        "ajusteContaminacion = gp.gaussProcess(np.arange(len(est56NO2_np)),np.reshape(est56NO2_np,(len(est56NO2_np))),[0.,0.,0.,])\n",
        "\n",
        "# Indicamos cual es el kernel y como varían en función de sus hiperparámetros\n",
        "ajusteContaminacion.compCov(lambda x,y,sh,lh,sigmah : ajusteContaminacion.Kernels.exponencialCuadrada(x,y,sh,lh)+ajusteContaminacion.Kernels.ruidoBlanco(x,y,sigmah)) # Aqui especificamos los hiperparametros\n",
        "funciones = np.asarray([lambda x,y,sh,lh,sigmah: ajusteContaminacion.Kernels.expCua_der_s(x,y,sh,lh),lambda x,y,sh,lh,sigmah: ajusteContaminacion.Kernels.expCua_der_l(x,y,sh,lh), lambda x,y,sh,lh,sigmah: ajusteContaminacion.Kernels.rB_der_sigma(x,y,sigmah)])\n",
        "ajusteContaminacion.compDerCov(funciones)\n",
        "\n",
        "ajusteContaminacion.Hiper = np.array([100.,365.,100])\n",
        "\n",
        "# Entrenamos el proceso gaussiano\n",
        "print(\"hola\")\n",
        "ajusteContaminacion.condicionarGP(*np.array([1.,2.,3.,4.]))\n"
      ],
      "execution_count": null,
      "outputs": [
        {
          "output_type": "stream",
          "text": [
            "hola\n"
          ],
          "name": "stdout"
        },
        {
          "output_type": "error",
          "ename": "NameError",
          "evalue": "ignored",
          "traceback": [
            "\u001b[0;31m---------------------------------------------------------------------------\u001b[0m",
            "\u001b[0;31mValueError\u001b[0m                                Traceback (most recent call last)",
            "\u001b[0;32m/content/cloned-repo/libreriaGP.py\u001b[0m in \u001b[0;36mcondicionarGP\u001b[0;34m(self, *dominio_test)\u001b[0m\n",
            "\u001b[0;32m/content/cloned-repo/libreriaGP.py\u001b[0m in \u001b[0;36mcalcCovM\u001b[0;34m(self, xM, yM)\u001b[0m\n",
            "\u001b[0;32m/usr/local/lib/python3.6/dist-packages/numpy/lib/function_base.py\u001b[0m in \u001b[0;36m__call__\u001b[0;34m(self, *args, **kwargs)\u001b[0m\n\u001b[1;32m   2090\u001b[0m \u001b[0;34m\u001b[0m\u001b[0m\n\u001b[0;32m-> 2091\u001b[0;31m         \u001b[0;32mreturn\u001b[0m \u001b[0mself\u001b[0m\u001b[0;34m.\u001b[0m\u001b[0m_vectorize_call\u001b[0m\u001b[0;34m(\u001b[0m\u001b[0mfunc\u001b[0m\u001b[0;34m=\u001b[0m\u001b[0mfunc\u001b[0m\u001b[0;34m,\u001b[0m \u001b[0margs\u001b[0m\u001b[0;34m=\u001b[0m\u001b[0mvargs\u001b[0m\u001b[0;34m)\u001b[0m\u001b[0;34m\u001b[0m\u001b[0;34m\u001b[0m\u001b[0m\n\u001b[0m\u001b[1;32m   2092\u001b[0m \u001b[0;34m\u001b[0m\u001b[0m\n",
            "\u001b[0;32m/usr/local/lib/python3.6/dist-packages/numpy/lib/function_base.py\u001b[0m in \u001b[0;36m_vectorize_call\u001b[0;34m(self, func, args)\u001b[0m\n\u001b[1;32m   2166\u001b[0m \u001b[0;34m\u001b[0m\u001b[0m\n\u001b[0;32m-> 2167\u001b[0;31m             \u001b[0moutputs\u001b[0m \u001b[0;34m=\u001b[0m \u001b[0mufunc\u001b[0m\u001b[0;34m(\u001b[0m\u001b[0;34m*\u001b[0m\u001b[0minputs\u001b[0m\u001b[0;34m)\u001b[0m\u001b[0;34m\u001b[0m\u001b[0;34m\u001b[0m\u001b[0m\n\u001b[0m\u001b[1;32m   2168\u001b[0m \u001b[0;34m\u001b[0m\u001b[0m\n",
            "\u001b[0;31mValueError\u001b[0m: operands could not be broadcast together with shapes (400,400) (1,4) () () () ",
            "\nDuring handling of the above exception, another exception occurred:\n",
            "\u001b[0;31mNameError\u001b[0m                                 Traceback (most recent call last)",
            "\u001b[0;32m<ipython-input-89-36eb0cde1970>\u001b[0m in \u001b[0;36m<module>\u001b[0;34m()\u001b[0m\n\u001b[1;32m     14\u001b[0m \u001b[0;31m# Entrenamos el proceso gaussiano\u001b[0m\u001b[0;34m\u001b[0m\u001b[0;34m\u001b[0m\u001b[0;34m\u001b[0m\u001b[0m\n\u001b[1;32m     15\u001b[0m \u001b[0mprint\u001b[0m\u001b[0;34m(\u001b[0m\u001b[0;34m\"hola\"\u001b[0m\u001b[0;34m)\u001b[0m\u001b[0;34m\u001b[0m\u001b[0;34m\u001b[0m\u001b[0m\n\u001b[0;32m---> 16\u001b[0;31m \u001b[0majusteContaminacion\u001b[0m\u001b[0;34m.\u001b[0m\u001b[0mcondicionarGP\u001b[0m\u001b[0;34m(\u001b[0m\u001b[0;34m*\u001b[0m\u001b[0mnp\u001b[0m\u001b[0;34m.\u001b[0m\u001b[0marray\u001b[0m\u001b[0;34m(\u001b[0m\u001b[0;34m[\u001b[0m\u001b[0;36m1.\u001b[0m\u001b[0;34m,\u001b[0m\u001b[0;36m2.\u001b[0m\u001b[0;34m,\u001b[0m\u001b[0;36m3.\u001b[0m\u001b[0;34m,\u001b[0m\u001b[0;36m4.\u001b[0m\u001b[0;34m]\u001b[0m\u001b[0;34m)\u001b[0m\u001b[0;34m)\u001b[0m\u001b[0;34m\u001b[0m\u001b[0;34m\u001b[0m\u001b[0m\n\u001b[0m",
            "\u001b[0;32m/content/cloned-repo/libreriaGP.py\u001b[0m in \u001b[0;36mcondicionarGP\u001b[0;34m(self, *dominio_test)\u001b[0m\n",
            "\u001b[0;31mNameError\u001b[0m: Debes especificar primero el kernel que estas usando junto a sus hiperparametros con el metodo self.compCov"
          ]
        }
      ]
    }
  ]
}