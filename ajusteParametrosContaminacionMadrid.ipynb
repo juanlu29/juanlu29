{
  "nbformat": 4,
  "nbformat_minor": 0,
  "metadata": {
    "colab": {
      "name": "Untitled6.ipynb",
      "provenance": [],
      "authorship_tag": "ABX9TyORcGyP/GGf/h9XPXuTtlwv",
      "include_colab_link": true
    },
    "kernelspec": {
      "name": "python3",
      "display_name": "Python 3"
    }
  },
  "cells": [
    {
      "cell_type": "markdown",
      "metadata": {
        "id": "view-in-github",
        "colab_type": "text"
      },
      "source": [
        "<a href=\"https://colab.research.google.com/github/juanlu29/juanlu29/blob/contaminacionMadrid/ajusteParametrosContaminacionMadrid.ipynb\" target=\"_parent\"><img src=\"https://colab.research.google.com/assets/colab-badge.svg\" alt=\"Open In Colab\"/></a>"
      ]
    },
    {
      "cell_type": "markdown",
      "metadata": {
        "id": "VCXDS-IsAnU_",
        "colab_type": "text"
      },
      "source": [
        "### Optimizacion parametros para ajustar a los datos de contaminación de Madrid\n"
      ]
    },
    {
      "cell_type": "code",
      "metadata": {
        "id": "uAlIR3ZxAm2l",
        "colab_type": "code",
        "colab": {}
      },
      "source": [
        "# Importamos librerias \n",
        "import numpy as np\n",
        "import random\n",
        "import scipy\n",
        "import scipy.linalg\n",
        "from matplotlib import pyplot as plt\n",
        "import seaborn as sns\n",
        "from google.colab import drive\n",
        "import pandas as pd\n",
        "import numba\n",
        "from scipy.optimize import minimize\n",
        "from google.colab import drive\n",
        "drive.mount('/content/drive/')\n",
        "\n",
        "\n",
        "# Importamos mi libreria de procesos gaussianos\n",
        "!git clone -l -s https://gist.github.com/juanlu29/ba41117769373e09d879505a76479a89 cloned-repo\n",
        "\n",
        "# Change directory into cloned repo\n",
        "%cd cloned-repo\n",
        "\n",
        "# List repo contents\n",
        "!ls\n",
        "\n",
        "# Descargamos los datos de contaminación de Madrid\n",
        "\n",
        "import libreriaGP\n",
        "\n",
        "# Exploramos los directorios de drive. Cambiamos directorio a donde estan los datos\n",
        "%cd /content/drive/My\\ Drive/datosContaminacionMadrid\n",
        "\n",
        "# Lo pasamos a dataframes\n",
        "est56NO2_df = pd.read_csv('Est56FL_CodPar08NO2_valuesonly.txt', header=0)\n",
        "est24NO2_df = pd.read_csv('Est24CC_CodPar08NO2_valuesonly.txt', header=0)\n",
        "est03NO2_df = pd.read_csv('Est03PlC_CodPar08NO2_valuesonly.txt', header=0)\n",
        "est03O3_df  = pd.read_csv('Est03PlC_CodPar14O3_valuesonly.txt', header=0)"
      ],
      "execution_count": null,
      "outputs": []
    },
    {
      "cell_type": "code",
      "metadata": {
        "id": "FxAeSJj9Az4T",
        "colab_type": "code",
        "colab": {}
      },
      "source": [
        ""
      ],
      "execution_count": null,
      "outputs": []
    }
  ]
}