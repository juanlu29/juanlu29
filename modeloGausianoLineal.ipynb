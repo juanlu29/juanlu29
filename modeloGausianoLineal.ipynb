{
  "nbformat": 4,
  "nbformat_minor": 0,
  "metadata": {
    "colab": {
      "name": "Untitled",
      "provenance": [],
      "collapsed_sections": [],
      "authorship_tag": "ABX9TyOwK9u6FEd5iffkcGnKZR/V",
      "include_colab_link": true
    },
    "kernelspec": {
      "name": "python3",
      "display_name": "Python 3"
    }
  },
  "cells": [
    {
      "cell_type": "markdown",
      "metadata": {
        "id": "view-in-github",
        "colab_type": "text"
      },
      "source": [
        "<a href=\"https://colab.research.google.com/github/juanlu29/juanlu29/blob/gp_aprendizaje/modeloGausianoLineal.ipynb\" target=\"_parent\"><img src=\"https://colab.research.google.com/assets/colab-badge.svg\" alt=\"Open In Colab\"/></a>"
      ]
    },
    {
      "cell_type": "markdown",
      "metadata": {
        "id": "MIM-iMXTpIfv",
        "colab_type": "text"
      },
      "source": [
        "Librerias importadas y constantes usadas"
      ]
    },
    {
      "cell_type": "code",
      "metadata": {
        "id": "an7GdNIpZ9Pr",
        "colab_type": "code",
        "colab": {}
      },
      "source": [
        "# Modulos y constantes\n",
        "\n",
        "import numpy as np\n",
        "import random\n",
        "import scipy\n",
        "import scipy.linalg\n",
        "from matplotlib import pyplot as plt\n",
        "\n",
        "pi = np.pi\n",
        "\n",
        "sigma_signal = 0.5 # desviación estándar del ruido usado para enmascarar la señal de entrenamiento\n",
        "\n",
        "sigma_b = 0.5 # En distribucion gaussiana a priori de modelo de regresióón linear, desviación estándar de la ordenada\n",
        "sigma_m = 0.5 # En distribucion gaussiana a priori de modelo de regresióón linear, desviación estándar de la pendiente"
      ],
      "execution_count": null,
      "outputs": []
    },
    {
      "cell_type": "markdown",
      "metadata": {
        "id": "eoa5hD_3pRet",
        "colab_type": "text"
      },
      "source": [
        "La siguiente celda contiene informacion sobre el conjunto de puntos - objetivos sobre el que entrenar el proceso gausiano, así como una especificación a priori de la matriz de covarianzas"
      ]
    },
    {
      "cell_type": "code",
      "metadata": {
        "id": "VNrT3V5mpQ2T",
        "colab_type": "code",
        "colab": {
          "base_uri": "https://localhost:8080/",
          "height": 396
        },
        "outputId": "a73851c8-f17e-4f31-a4ec-6c34d86b3d78"
      },
      "source": [
        "n_tp = 50 # puntos de entrenamiento\n",
        "\n",
        "x_bot_b = 0.\n",
        "x_top_b = 10.\n",
        "\n",
        "\n",
        "x = np.linspace(x_bot_b,x_top_b,n_tp)\n",
        "y = np.fromiter([np.sin(x)+np.cos(x)+sigma_signal*random.random() for x in x],float)\n",
        "\n",
        "proyeccionlinear = espacioPropio()\n",
        "mCov,phi_x,mean = proyeccionlinear.linear(x,sigma_b,sigma_m)\n",
        "\n",
        "print(phi_x.size)\n",
        "\n",
        "gp_cov_diag = gaussProcess(mCov,np.mean,phi_x,y)\n",
        "\n",
        "realizacion1 = gp_cov_diag.multivariateGauss(10000)\n",
        "\n",
        "\n",
        "realizacion1 = datosVisualizacion(x,y,realizacion1[0],realizacion1[1])\n",
        "realizacion1.mostrarPlot()\n"
      ],
      "execution_count": null,
      "outputs": [
        {
          "output_type": "stream",
          "text": [
            "100\n"
          ],
          "name": "stdout"
        },
        {
          "output_type": "error",
          "ename": "ValueError",
          "evalue": "ignored",
          "traceback": [
            "\u001b[0;31m---------------------------------------------------------------------------\u001b[0m",
            "\u001b[0;31mValueError\u001b[0m                                Traceback (most recent call last)",
            "\u001b[0;32m<ipython-input-84-b3dfc0f0d9ae>\u001b[0m in \u001b[0;36m<module>\u001b[0;34m()\u001b[0m\n\u001b[1;32m     15\u001b[0m \u001b[0mgp_cov_diag\u001b[0m \u001b[0;34m=\u001b[0m \u001b[0mgaussProcess\u001b[0m\u001b[0;34m(\u001b[0m\u001b[0mmCov\u001b[0m\u001b[0;34m,\u001b[0m\u001b[0mnp\u001b[0m\u001b[0;34m.\u001b[0m\u001b[0mmean\u001b[0m\u001b[0;34m,\u001b[0m\u001b[0mphi_x\u001b[0m\u001b[0;34m,\u001b[0m\u001b[0my\u001b[0m\u001b[0;34m)\u001b[0m\u001b[0;34m\u001b[0m\u001b[0;34m\u001b[0m\u001b[0m\n\u001b[1;32m     16\u001b[0m \u001b[0;34m\u001b[0m\u001b[0m\n\u001b[0;32m---> 17\u001b[0;31m \u001b[0mrealizacion1\u001b[0m \u001b[0;34m=\u001b[0m \u001b[0mgp_cov_diag\u001b[0m\u001b[0;34m.\u001b[0m\u001b[0mmultivariateGauss\u001b[0m\u001b[0;34m(\u001b[0m\u001b[0;36m10000\u001b[0m\u001b[0;34m)\u001b[0m\u001b[0;34m\u001b[0m\u001b[0;34m\u001b[0m\u001b[0m\n\u001b[0m\u001b[1;32m     18\u001b[0m \u001b[0;34m\u001b[0m\u001b[0m\n\u001b[1;32m     19\u001b[0m \u001b[0;34m\u001b[0m\u001b[0m\n",
            "\u001b[0;32m<ipython-input-83-bf34e7affe4e>\u001b[0m in \u001b[0;36mmultivariateGauss\u001b[0;34m(self, n)\u001b[0m\n\u001b[1;32m     40\u001b[0m     \u001b[0mgaussNumbers\u001b[0m \u001b[0;34m=\u001b[0m \u001b[0mnp\u001b[0m\u001b[0;34m.\u001b[0m\u001b[0mfromiter\u001b[0m\u001b[0;34m(\u001b[0m\u001b[0;34m[\u001b[0m \u001b[0mrandom\u001b[0m\u001b[0;34m.\u001b[0m\u001b[0mrandom\u001b[0m\u001b[0;34m(\u001b[0m\u001b[0;34m)\u001b[0m \u001b[0;32mfor\u001b[0m \u001b[0mx\u001b[0m \u001b[0;32min\u001b[0m \u001b[0mrange\u001b[0m\u001b[0;34m(\u001b[0m\u001b[0mn\u001b[0m\u001b[0;34m)\u001b[0m \u001b[0;34m]\u001b[0m\u001b[0;34m,\u001b[0m\u001b[0mfloat\u001b[0m\u001b[0;34m)\u001b[0m\u001b[0;34m\u001b[0m\u001b[0;34m\u001b[0m\u001b[0m\n\u001b[1;32m     41\u001b[0m     \u001b[0mgaussNumbers_dom\u001b[0m \u001b[0;34m=\u001b[0m \u001b[0mnp\u001b[0m\u001b[0;34m.\u001b[0m\u001b[0mfromiter\u001b[0m\u001b[0;34m(\u001b[0m\u001b[0;34m[\u001b[0m \u001b[0mrandom\u001b[0m\u001b[0;34m.\u001b[0m\u001b[0mrandom\u001b[0m\u001b[0;34m(\u001b[0m\u001b[0;34m)\u001b[0m \u001b[0;32mfor\u001b[0m \u001b[0mx\u001b[0m \u001b[0;32min\u001b[0m \u001b[0mrange\u001b[0m\u001b[0;34m(\u001b[0m\u001b[0mn\u001b[0m\u001b[0;34m)\u001b[0m \u001b[0;34m]\u001b[0m\u001b[0;34m,\u001b[0m\u001b[0mfloat\u001b[0m\u001b[0;34m)\u001b[0m\u001b[0;34m\u001b[0m\u001b[0;34m\u001b[0m\u001b[0m\n\u001b[0;32m---> 42\u001b[0;31m     \u001b[0;32mreturn\u001b[0m \u001b[0;34m[\u001b[0m\u001b[0mself\u001b[0m\u001b[0;34m.\u001b[0m\u001b[0mmean\u001b[0m \u001b[0;34m+\u001b[0m \u001b[0mnp\u001b[0m\u001b[0;34m.\u001b[0m\u001b[0mmatmul\u001b[0m\u001b[0;34m(\u001b[0m\u001b[0mself\u001b[0m\u001b[0;34m.\u001b[0m\u001b[0mL\u001b[0m\u001b[0;34m,\u001b[0m\u001b[0mgaussNumbers\u001b[0m\u001b[0;34m.\u001b[0m\u001b[0mT\u001b[0m\u001b[0;34m)\u001b[0m\u001b[0;34m]\u001b[0m\u001b[0;34m\u001b[0m\u001b[0;34m\u001b[0m\u001b[0m\n\u001b[0m\u001b[1;32m     43\u001b[0m \u001b[0;34m\u001b[0m\u001b[0m\n\u001b[1;32m     44\u001b[0m \u001b[0;34m\u001b[0m\u001b[0m\n",
            "\u001b[0;31mValueError\u001b[0m: matmul: Input operand 1 has a mismatch in its core dimension 0, with gufunc signature (n?,k),(k,m?)->(n?,m?) (size 10000 is different from 2)"
          ]
        }
      ]
    },
    {
      "cell_type": "markdown",
      "metadata": {
        "id": "REjNF1UyXdut",
        "colab_type": "text"
      },
      "source": [
        "Este google colab sera un espacio donde practicar conceptos básicos sobre procesos gausianos, en general desarrollar clases para reproducir los conceptos básicos de estos y practicar alguna regresión \"de juguete\".\n",
        "\n"
      ]
    },
    {
      "cell_type": "code",
      "metadata": {
        "id": "5dIxZad-Xbvn",
        "colab_type": "code",
        "colab": {}
      },
      "source": [
        "class espacioPropio():\n",
        "  '''\n",
        "  Esta clase define el espacio propio donde proyectamos y la matriz de covarianza resultante\n",
        "  '''\n",
        "\n",
        "  def linear(self,x, sigma_b,sigma_m):\n",
        "    '''\n",
        "    Se interpretan sigma_b y sigma_m como varianzas de distribuciones a priori gaussianas\n",
        "    para la ordenada en origen y para la pendiente de nuestro modelo linear.\n",
        "    x es el input\n",
        "    '''\n",
        "    return np.array([[sigma_b,0],[0,sigma_m]]), np.array([np.array([1,xe]) for xe in x]),np.zeros(x.size)\n",
        "\n",
        "\n",
        "\n",
        "\n",
        "class gaussProcess():\n",
        "  def __init__(self,CovM,Mean, Input, Training):\n",
        "    '''\n",
        "    Los objetos de esta clase modelan procesos gaussianos caracterizados por su promedio y covarianza\n",
        "    '''\n",
        "    self.input = Input # Dominio de entrenamiento del modelo\n",
        "    self.training = Training # Objetivos de la regresióón en el modelo\n",
        "    self.covM = CovM\n",
        "    self.mean = Mean\n",
        "    self.cholDescomp()\n",
        "\n",
        "  def cholDescomp(self):\n",
        "    '''\n",
        "    Cholesky decomposition\n",
        "    '''\n",
        "    self.L = scipy.linalg.cholesky(np.matmulself.covM, lower=True)\n",
        "\n",
        "  def multivariateGauss(self,n):\n",
        "    '''\n",
        "    Muestrea colecciones de numeros aleatorios siguiente una distribucion \n",
        "    '''\n",
        "    \n",
        "    # n es la cantidad de numeros gaussianos a generar\n",
        "    gaussNumbers = np.fromiter([ random.random() for x in range(n) ],float)\n",
        "    gaussNumbers_dom = np.fromiter([ random.random() for x in range(n) ],float)\n",
        "    return [self.mean + np.matmul(self.L,gaussNumbers.T)]\n",
        "\n",
        "\n",
        "class datosVisualizacion():\n",
        "  '''\n",
        "  Esta clase contiene los datos de entrenamiento y realizaciones de los procesos gaussianos para la visualización de los mismos\n",
        "  '''\n",
        "  def __init__(self,X,Y,X_star,Y_star):\n",
        "    self.x = X\n",
        "    self.y = Y\n",
        "    self.x_star = X_star\n",
        "    self.y_star = Y_star\n",
        "    self.inicializacionPlot()\n",
        "\n",
        "  def realizacion_gp(self,x_star, y_star):\n",
        "    '''\n",
        "    Almacena realizacion del proceso gausiano\n",
        "    '''\n",
        "\n",
        "  def inicializacionPlot(self):\n",
        "    '''\n",
        "    Inicializa el objeto matplotlib\n",
        "    '''\n",
        "    self.fig,self.ax = plt.subplots(nrows=1,ncols=1,figsize=(10,10))\n",
        "    self.ax.plot(self.x,self.y,'go')\n",
        "    self.ax.plot(self.x_star,self.y_star,'b--')\n",
        "\n",
        "  def mostrarPlot(self):\n",
        "    '''\n",
        "    Muestra plot\n",
        "    '''\n",
        "    self.fig.show()\n",
        "\n"
      ],
      "execution_count": null,
      "outputs": []
    },
    {
      "cell_type": "code",
      "metadata": {
        "id": "YMf7KCEkil6k",
        "colab_type": "code",
        "colab": {
          "base_uri": "https://localhost:8080/",
          "height": 903
        },
        "outputId": "15264184-b085-48c2-8c7f-211459f18d96"
      },
      "source": [
        "K = np.array([[2,0,0],[0,5,0],[0,0,6]])\n",
        "m = np.array([1,2,3])\n",
        "\n",
        "A = np.array([np.array([1,xe]) for xe in x])\n",
        "\n",
        "print(A[1])\n",
        "\n",
        "B = np.array([[1,1],[1,1]])\n",
        "\n",
        "print(np.matmul(A,B))\n",
        "\n",
        "#np.fromiter([np.array([1,xe]) for xe in x],float)\n",
        "\n",
        "#np.array([[0.3,0],[0,0.8]])"
      ],
      "execution_count": null,
      "outputs": [
        {
          "output_type": "stream",
          "text": [
            "[1.         0.20408163]\n",
            "[[ 1.          1.        ]\n",
            " [ 1.20408163  1.20408163]\n",
            " [ 1.40816327  1.40816327]\n",
            " [ 1.6122449   1.6122449 ]\n",
            " [ 1.81632653  1.81632653]\n",
            " [ 2.02040816  2.02040816]\n",
            " [ 2.2244898   2.2244898 ]\n",
            " [ 2.42857143  2.42857143]\n",
            " [ 2.63265306  2.63265306]\n",
            " [ 2.83673469  2.83673469]\n",
            " [ 3.04081633  3.04081633]\n",
            " [ 3.24489796  3.24489796]\n",
            " [ 3.44897959  3.44897959]\n",
            " [ 3.65306122  3.65306122]\n",
            " [ 3.85714286  3.85714286]\n",
            " [ 4.06122449  4.06122449]\n",
            " [ 4.26530612  4.26530612]\n",
            " [ 4.46938776  4.46938776]\n",
            " [ 4.67346939  4.67346939]\n",
            " [ 4.87755102  4.87755102]\n",
            " [ 5.08163265  5.08163265]\n",
            " [ 5.28571429  5.28571429]\n",
            " [ 5.48979592  5.48979592]\n",
            " [ 5.69387755  5.69387755]\n",
            " [ 5.89795918  5.89795918]\n",
            " [ 6.10204082  6.10204082]\n",
            " [ 6.30612245  6.30612245]\n",
            " [ 6.51020408  6.51020408]\n",
            " [ 6.71428571  6.71428571]\n",
            " [ 6.91836735  6.91836735]\n",
            " [ 7.12244898  7.12244898]\n",
            " [ 7.32653061  7.32653061]\n",
            " [ 7.53061224  7.53061224]\n",
            " [ 7.73469388  7.73469388]\n",
            " [ 7.93877551  7.93877551]\n",
            " [ 8.14285714  8.14285714]\n",
            " [ 8.34693878  8.34693878]\n",
            " [ 8.55102041  8.55102041]\n",
            " [ 8.75510204  8.75510204]\n",
            " [ 8.95918367  8.95918367]\n",
            " [ 9.16326531  9.16326531]\n",
            " [ 9.36734694  9.36734694]\n",
            " [ 9.57142857  9.57142857]\n",
            " [ 9.7755102   9.7755102 ]\n",
            " [ 9.97959184  9.97959184]\n",
            " [10.18367347 10.18367347]\n",
            " [10.3877551  10.3877551 ]\n",
            " [10.59183673 10.59183673]\n",
            " [10.79591837 10.79591837]\n",
            " [11.         11.        ]]\n"
          ],
          "name": "stdout"
        }
      ]
    }
  ]
}