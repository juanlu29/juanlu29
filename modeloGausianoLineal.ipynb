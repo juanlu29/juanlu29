{
  "nbformat": 4,
  "nbformat_minor": 0,
  "metadata": {
    "colab": {
      "name": "Untitled",
      "provenance": [],
      "collapsed_sections": [],
      "authorship_tag": "ABX9TyMxB1U8rtE2CUh0X0kIS7BM",
      "include_colab_link": true
    },
    "kernelspec": {
      "name": "python3",
      "display_name": "Python 3"
    }
  },
  "cells": [
    {
      "cell_type": "markdown",
      "metadata": {
        "id": "view-in-github",
        "colab_type": "text"
      },
      "source": [
        "<a href=\"https://colab.research.google.com/github/juanlu29/juanlu29/blob/gp_aprendizaje/modeloGausianoLineal.ipynb\" target=\"_parent\"><img src=\"https://colab.research.google.com/assets/colab-badge.svg\" alt=\"Open In Colab\"/></a>"
      ]
    },
    {
      "cell_type": "markdown",
      "metadata": {
        "id": "MIM-iMXTpIfv",
        "colab_type": "text"
      },
      "source": [
        "Librerias importadas y constantes usadas"
      ]
    },
    {
      "cell_type": "code",
      "metadata": {
        "id": "an7GdNIpZ9Pr",
        "colab_type": "code",
        "colab": {}
      },
      "source": [
        "# Modulos y constantes\n",
        "\n",
        "import numpy as np\n",
        "import random\n",
        "import scipy\n",
        "import scipy.linalg\n",
        "from matplotlib import pyplot as plt\n",
        "\n",
        "pi = np.pi\n",
        "\n",
        "# Los siguientes parametros son cuadrados de las desviaciones estandar\n",
        "sigma_signal_sq = 1.5 # desviación estándar del ruido usado para enmascarar la señal de entrenamiento\n",
        "sigma_b_sq = 70.5 # En distribucion gaussiana a priori de modelo de regresióón linear, desviación estándar de la ordenada\n",
        "sigma_m_sq = 12.5 # En distribucion gaussiana a priori de modelo de regresióón linear, desviación estándar de la pendiente\n",
        "\n",
        "ordenada_real = 10.\n",
        "pendiente_real = 5."
      ],
      "execution_count": 25,
      "outputs": []
    },
    {
      "cell_type": "markdown",
      "metadata": {
        "id": "ZHAQxULhqQkb",
        "colab_type": "text"
      },
      "source": [
        "Informacion sobre la particion del sistema y las realizaciones a realizar"
      ]
    },
    {
      "cell_type": "code",
      "metadata": {
        "id": "Ho6aiRGIqLSQ",
        "colab_type": "code",
        "colab": {}
      },
      "source": [
        "n_r = 1 # numero de realizaciones del proceso gaussiano\n",
        "\n",
        "n_tp = 500 # puntos para muestrear el fondo continuo para la desviacion estándar\n",
        "\n",
        "x_bot_b = -2.5\n",
        "x_top_b = 14.\n",
        "\n",
        "x = np.linspace(x_bot_b,x_top_b,n_tp)\n",
        "\n",
        "n_test = 12 # puntos para realizar inferencia\n",
        "\n",
        "x_train = np.linspace(x_bot_b,x_top_b,n_test)\n",
        "y_train = np.fromiter([ordenada_real+pendiente_real*x+sigma_signal_sq*random.random() for x in x_train],float)\n"
      ],
      "execution_count": 26,
      "outputs": []
    },
    {
      "cell_type": "markdown",
      "metadata": {
        "id": "eoa5hD_3pRet",
        "colab_type": "text"
      },
      "source": [
        "La siguiente celda contiene informacion sobre el conjunto de puntos - objetivos sobre el que entrenar el proceso gausiano, así como una especificación a priori de la matriz de covarianzas"
      ]
    },
    {
      "cell_type": "code",
      "metadata": {
        "id": "VNrT3V5mpQ2T",
        "colab_type": "code",
        "colab": {
          "base_uri": "https://localhost:8080/",
          "height": 592
        },
        "outputId": "2adb2354-b5dc-418f-89e8-aae03b70263e"
      },
      "source": [
        "\n",
        "# Hacemos la proyeccion sobre el espacio propio del modelo de regresion linear y derivamos la matriz de dispersion de los parámetros\n",
        "proyeccionlinear = espacioPropio()\n",
        "mCov_x,phi_x,mean = proyeccionlinear.linear(x,sigma_b_sq,sigma_m_sq)\n",
        "mCov_train,phi_train,mean_train = proyeccionlinear.linear(x_train,sigma_b_sq,sigma_m_sq)\n",
        "\n",
        "# Generamos un proceso gausiano para generar la distribucion de funciones con probabilidades a priori (las que nos ofrece las incertidumbres en los parametros)\n",
        "gp_cov_diag = gaussProcess(mCov_x,np.zeros(n_tp),phi_x)\n",
        "gp_cov_diag.sigmaCalc(phi_x)\n",
        "sigmaVal = gp_cov_diag.sigma\n",
        "visualizacion = datosVisualizacion()\n",
        "\n",
        "visualizacion.add_sigma(x,sigmaVal)\n",
        "visualizacion.add_mean(x,np.zeros(n_tp))\n",
        "\n",
        "[visualizacion.add_data(x,gp_cov_diag.multivariateGauss(n_tp)[0],inset) for inset in range(n_r) ]\n",
        "\n",
        "[visualizacion.add_data_plot(inset) for inset in range(n_r) ]\n",
        "\n",
        "visualizacion.mostrarPlot()\n"
      ],
      "execution_count": 52,
      "outputs": [
        {
          "output_type": "display_data",
          "data": {
            "image/png": "[encoded data removed]",
            "text/plain": [
              "<Figure size 720x720 with 1 Axes>"
            ]
          },
          "metadata": {
            "tags": [],
            "needs_background": "light"
          }
        }
      ]
    },
    {
      "cell_type": "code",
      "metadata": {
        "id": "5uCgm8NJqE0z",
        "colab_type": "code",
        "colab": {}
      },
      "source": [
        ""
      ],
      "execution_count": null,
      "outputs": []
    },
    {
      "cell_type": "markdown",
      "metadata": {
        "id": "REjNF1UyXdut",
        "colab_type": "text"
      },
      "source": [
        "Este google colab sera un espacio donde practicar conceptos básicos sobre procesos gausianos, en general desarrollar clases para reproducir los conceptos básicos de estos y practicar alguna regresión \"de juguete\". Muestrea funciones del espacio F:R¹\n",
        "\n"
      ]
    },
    {
      "cell_type": "code",
      "metadata": {
        "id": "5dIxZad-Xbvn",
        "colab_type": "code",
        "colab": {}
      },
      "source": [
        "class espacioPropio():\n",
        "  '''\n",
        "  Esta clase define el espacio propio donde proyectamos y la matriz de covarianza resultante\n",
        "  '''\n",
        "\n",
        "  def linear(self,x, sigma_b,sigma_m):\n",
        "    '''\n",
        "    Se interpretan sigma_b y sigma_m como varianzas de distribuciones a priori gaussianas\n",
        "    para la ordenada en origen y para la pendiente de nuestro modelo linear.\n",
        "    x es el input\n",
        "    '''\n",
        "    return np.array([[sigma_b,0],[0,sigma_m]]), np.array([np.array([1,xe]) for xe in x]),np.zeros(x.size)\n",
        "\n",
        "  def covarianzaProceso(self,phi_x,covM):\n",
        "    '''\n",
        "    Devuelve la matriz de covarianza correspondiente a distribucion de probabilidad a priori en base a la incertidumbre de los parametros de una regresion lineal .\n",
        "    '''\n",
        "    return np.matmul(np.matmul(phi_x,covM),phi_x.T)\n",
        "\n",
        "\n",
        "\n",
        "class gaussProcess():\n",
        "  def __init__(self,Eps,Mean, Input):\n",
        "    '''\n",
        "    Los objetos de esta clase modelan procesos gaussianos caracterizados por su promedio y covarianza\n",
        "    Eps es la matriz de covarianzas de los pesos del proceso gausiano\n",
        "    '''\n",
        "    self.input = Input # Dominio de la regresion\n",
        "    self.eps = Eps\n",
        "    self.mean = Mean\n",
        "    self.cholDescomp()\n",
        "\n",
        "  def cholDescomp(self):\n",
        "    '''\n",
        "    Cholesky decomposition\n",
        "    '''\n",
        "    K = np.matmul(np.matmul(self.input,self.eps),self.input.T)\n",
        "    try:\n",
        "      self.L = scipy.linalg.cholesky(K, lower=True)\n",
        "    except:\n",
        "      self.L = scipy.linalg.cholesky(K + np.diag(0.0000001*np.ones(int(np.sqrt(K.size)))), lower=True)\n",
        "\n",
        "  def multivariateGauss(self,n):\n",
        "    '''\n",
        "    Muestrea colecciones de numeros aleatorios siguiendo una distribucion \n",
        "    '''\n",
        "    \n",
        "    # n es la cantidad de numeros gaussianos a generar\n",
        "    gaussNumbers = np.fromiter([ random.gauss(0,1) for x in range(n) ],float)\n",
        "    return [self.mean + np.matmul(self.L,gaussNumbers.T)]\n",
        "\n",
        "  def sigmaCalc(self,dominio):\n",
        "    '''\n",
        "    Desviacion estándar punto a punto del proceso gausiano dado por la matriz de covarianza \n",
        "    Es la raiz cuadrado de los elementos de la diagonal de la matriz de covarianzas del proceso generado\n",
        "    '''\n",
        "    K = np.matmul(np.matmul(dominio,self.eps),dominio.T)\n",
        "    self.sigma = np.sqrt(np.diag(K))\n",
        "\n",
        "class datosVisualizacion():\n",
        "  '''\n",
        "  Esta clase contiene los datos de entrenamiento y realizaciones de los procesos gaussianos para la visualización de los mismos\n",
        "  '''\n",
        "  def __init__(self):\n",
        "    self.x = []\n",
        "    self.y = []\n",
        "    self.sigma = []\n",
        "    self.realizacion_dict = {}\n",
        "    self.inicializacionPlot()\n",
        "\n",
        "  def add_mean(self,X,Mean):\n",
        "    '''\n",
        "    Almacena la desviación estándar de un proceso gausiano dado\n",
        "    '''\n",
        "    self.x_mean = X\n",
        "    self.mean = Mean\n",
        "\n",
        "\n",
        "  def add_sigma(self,X,Sigma):\n",
        "    '''\n",
        "    Almacena la desviación estándar de un proceso gausiano dado\n",
        "    '''\n",
        "    self.x_sigma = X\n",
        "    self.sigma = Sigma\n",
        "\n",
        "  def add_data(self,X,Y,label):\n",
        "    self.x.append(X)\n",
        "    self.y.append(Y)\n",
        "    self.realizacion_dict[label] = len(self.x)-1\n",
        "\n",
        "  def inicializacionPlot(self):\n",
        "    '''\n",
        "    Inicializa el objeto matplotlib\n",
        "    '''\n",
        "    self.fig,self.ax = plt.subplots(nrows=1,ncols=1,figsize=(10,10))\n",
        "\n",
        "  def add_data_plot(self,label):\n",
        "    try:\n",
        "      self.ax.plot(self.x[self.realizacion_dict[label]],self.y[self.realizacion_dict[label]],'go')\n",
        "    except:\n",
        "      print('No existe datos referentes a etiqueta :',label)\n",
        "\n",
        "  def contorno_sigma(self):\n",
        "    '''\n",
        "    Muestra en pantalla contorno de 1 y 2 veces los valores de sigma del proceso gausiano\n",
        "    '''\n",
        "    self.ax.fill(np.concatenate((self.x_sigma,self.x_sigma[::-1])),\n",
        "             np.concatenate((self.mean - 1.9600 * self.sigma,\n",
        "                             (self.mean + 1.9600 * self.sigma)[::-1])),\n",
        "             alpha=.45, fc='y', ec='None', label='95% confidence interval')\n",
        "    self.ax.fill(np.concatenate((self.x_sigma,self.x_sigma[::-1])),\n",
        "             np.concatenate((self.mean - 1.000 * self.sigma,\n",
        "                             (self.mean + 1.000 * self.sigma)[::-1])),\n",
        "             alpha=.35, fc='b', ec='None', label='68% confidence interval')\n",
        "\n",
        "\n",
        "  def mostrarPlot(self):\n",
        "    '''\n",
        "    Muestra plot\n",
        "    '''\n",
        "    self.contorno_sigma()\n",
        "    self.ax.grid(True)\n",
        "    self.fig.show()\n",
        "\n"
      ],
      "execution_count": 8,
      "outputs": []
    },
    {
      "cell_type": "code",
      "metadata": {
        "id": "YMf7KCEkil6k",
        "colab_type": "code",
        "colab": {
          "base_uri": "https://localhost:8080/",
          "height": 903
        },
        "outputId": "15264184-b085-48c2-8c7f-211459f18d96"
      },
      "source": [
        "K = np.array([[2,0,0],[0,5,0],[0,0,6]])\n",
        "m = np.array([1,2,3])\n",
        "\n",
        "A = np.array([np.array([1,xe]) for xe in x])\n",
        "\n",
        "print(A[1])\n",
        "\n",
        "B = np.array([[1,1],[1,1]])\n",
        "\n",
        "print(np.matmul(A,B))\n",
        "\n",
        "#np.fromiter([np.array([1,xe]) for xe in x],float)\n",
        "\n",
        "#np.array([[0.3,0],[0,0.8]])"
      ],
      "execution_count": null,
      "outputs": [
        {
          "output_type": "stream",
          "text": [
            "[1.         0.20408163]\n",
            "[[ 1.          1.        ]\n",
            " [ 1.20408163  1.20408163]\n",
            " [ 1.40816327  1.40816327]\n",
            " [ 1.6122449   1.6122449 ]\n",
            " [ 1.81632653  1.81632653]\n",
            " [ 2.02040816  2.02040816]\n",
            " [ 2.2244898   2.2244898 ]\n",
            " [ 2.42857143  2.42857143]\n",
            " [ 2.63265306  2.63265306]\n",
            " [ 2.83673469  2.83673469]\n",
            " [ 3.04081633  3.04081633]\n",
            " [ 3.24489796  3.24489796]\n",
            " [ 3.44897959  3.44897959]\n",
            " [ 3.65306122  3.65306122]\n",
            " [ 3.85714286  3.85714286]\n",
            " [ 4.06122449  4.06122449]\n",
            " [ 4.26530612  4.26530612]\n",
            " [ 4.46938776  4.46938776]\n",
            " [ 4.67346939  4.67346939]\n",
            " [ 4.87755102  4.87755102]\n",
            " [ 5.08163265  5.08163265]\n",
            " [ 5.28571429  5.28571429]\n",
            " [ 5.48979592  5.48979592]\n",
            " [ 5.69387755  5.69387755]\n",
            " [ 5.89795918  5.89795918]\n",
            " [ 6.10204082  6.10204082]\n",
            " [ 6.30612245  6.30612245]\n",
            " [ 6.51020408  6.51020408]\n",
            " [ 6.71428571  6.71428571]\n",
            " [ 6.91836735  6.91836735]\n",
            " [ 7.12244898  7.12244898]\n",
            " [ 7.32653061  7.32653061]\n",
            " [ 7.53061224  7.53061224]\n",
            " [ 7.73469388  7.73469388]\n",
            " [ 7.93877551  7.93877551]\n",
            " [ 8.14285714  8.14285714]\n",
            " [ 8.34693878  8.34693878]\n",
            " [ 8.55102041  8.55102041]\n",
            " [ 8.75510204  8.75510204]\n",
            " [ 8.95918367  8.95918367]\n",
            " [ 9.16326531  9.16326531]\n",
            " [ 9.36734694  9.36734694]\n",
            " [ 9.57142857  9.57142857]\n",
            " [ 9.7755102   9.7755102 ]\n",
            " [ 9.97959184  9.97959184]\n",
            " [10.18367347 10.18367347]\n",
            " [10.3877551  10.3877551 ]\n",
            " [10.59183673 10.59183673]\n",
            " [10.79591837 10.79591837]\n",
            " [11.         11.        ]]\n"
          ],
          "name": "stdout"
        }
      ]
    }
  ]
}